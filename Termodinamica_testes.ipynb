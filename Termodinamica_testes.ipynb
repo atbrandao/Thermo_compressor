{
 "cells": [
  {
   "cell_type": "code",
   "execution_count": 27,
   "metadata": {},
   "outputs": [
    {
     "name": "stdout",
     "output_type": "stream",
     "text": [
      "Mass Flow = 104025.27539770148 kg/h\n",
      "n = 1.4246028670528041\n",
      "Head Politrópico = 188004.3647997954 J/kg\n",
      "Potência politrópica = 5432.5571734079585 kW\n",
      "Eficiência Politrópica = 98.56914035351218 %\n"
     ]
    }
   ],
   "source": [
    "import numpy as np\n",
    "import bokeh as bk\n",
    "\n",
    "Ts=57  # °C\n",
    "Ps=112.33  # bara\n",
    "\n",
    "Td=80.9  # °C\n",
    "Pd=142.03 # bara\n",
    "\n",
    "MW=3.83 # g/mol\n",
    "k=1.416\n",
    "Z=1.080\n",
    "VF=7165 #Inlet volume flow m³/h\n",
    "\n",
    "TsK=Ts+273\n",
    "TdK=Td+273\n",
    "Rp=Pd/Ps\n",
    "R=8.3144621 # Constante universal dos gases em [J/(mol.K)]\n",
    "RR=R/(MW/1000)  # Constante específica em [J/(kg.K)]\n",
    "rho=Ps*100000/(Z*RR*TsK) #Densidade em kg/m³\n",
    "MF=VF*rho #Mass Flow em kg/h\n",
    "print(\"Mass Flow = \"+str(MF)+\" kg/h\")\n",
    "\n",
    "n=1/(1-np.log(TdK/TsK)/np.log(Pd/Ps))\n",
    "print(\"n = \"+str(n))\n",
    "\n",
    "Hp=Z*n/(n-1)*RR*TsK*(Rp**((n-1)/n)-1)\n",
    "print(\"Head Politrópico = \"+str(Hp)+\" J/kg\")\n",
    "\n",
    "Wpol=Hp*MF/3.6e6\n",
    "print(\"Potência politrópica = \"+str(Wpol)+\" kW\")\n",
    "\n",
    "Eta_p=(k-1)*n/((n-1)*k)\n",
    "print(\"Eficiência Politrópica = \"+str(Eta_p*100)+\" %\")\n"
   ]
  },
  {
   "cell_type": "code",
   "execution_count": 48,
   "metadata": {},
   "outputs": [],
   "source": [
    "import thermo as th\n",
    "from thermo.chemical import Chemical\n",
    "from thermo.mixture import Mixture\n",
    "\n",
    "Gas=Mixture(['methane', 'ethane'], Vfls=[.6, .4], T=300, P=10E5)\n",
    "Met=Chemical('methane')\n",
    "\n",
    "EOSg=Gas.eos\n",
    "EOSm=Met.eos\n",
    "\n",
    "# H2=1\n",
    "# H2s=Chemical('methane',T=TsK,P=Ps*101000)\n",
    "# H2d=Chemical('methane',T=TdK,P=Pd*101000)\n",
    "\n",
    "# H2s.isentropic_exponent"
   ]
  },
  {
   "cell_type": "code",
   "execution_count": 49,
   "metadata": {},
   "outputs": [
    {
     "data": {
      "text/plain": [
       "300.0"
      ]
     },
     "execution_count": 49,
     "metadata": {},
     "output_type": "execute_result"
    }
   ],
   "source": [
    "EOSg.solve_T(10e5,Gas.Vm)"
   ]
  },
  {
   "cell_type": "code",
   "execution_count": 47,
   "metadata": {},
   "outputs": [
    {
     "data": {
      "text/plain": [
       "0.00232353869790776"
      ]
     },
     "execution_count": 47,
     "metadata": {},
     "output_type": "execute_result"
    }
   ],
   "source": [
    "Gas.Vm"
   ]
  },
  {
   "cell_type": "code",
   "execution_count": 32,
   "metadata": {},
   "outputs": [
    {
     "data": {
      "text/plain": [
       "<thermo.eos_mix.PRMIX at 0x1ce3ecf8>"
      ]
     },
     "execution_count": 32,
     "metadata": {},
     "output_type": "execute_result"
    }
   ],
   "source": [
    "aux"
   ]
  },
  {
   "cell_type": "code",
   "execution_count": 49,
   "metadata": {},
   "outputs": [
    {
     "name": "stdout",
     "output_type": "stream",
     "text": [
      "1.4475252901396876\n",
      "1.3371762169874066\n",
      "0.8142350775918539\n",
      "116393.13871715132\n"
     ]
    }
   ],
   "source": [
    "auxn=np.log(H2d.Z*H2d.T/(H2s.Z*H2s.T))/np.log(H2d.P/H2s.P)\n",
    "nr=1/(1-auxn)\n",
    "\n",
    "Ps=20\n",
    "Pd=40\n",
    "TsK=30+273\n",
    "TdK=100+273\n",
    "kr=1/(Y('methane',T=TsK,P=Ps*101000)-H2s.Z*R/(H2s.MW/1000)/H2s.Cp*(1+X('methane',T=TsK,P=Ps*101000))**2)\n",
    "\n",
    "Xm=(X('methane',T=TsK,P=Ps*101000)+X('methane',T=TdK,P=Pd*101000))/2\n",
    "Ym=(Y('methane',T=TsK,P=Ps*101000)+Y('methane',T=TdK,P=Pd*101000))/2\n",
    "\n",
    "etar=1/((1+Xm)*(((nr-1)/nr+(Ym-1))/((kr-1)/kr+(Ym-1)))-Xm)\n",
    "\n",
    "Hpr=nr/(nr-1)*H2s.Z*R/(H2s.MW/1000)*H2s.T*((H2d.P/H2s.P)**((nr-1)/nr)-1)\n",
    "\n",
    "print(nr)\n",
    "print(kr)\n",
    "print(etar)\n",
    "print(Hpr)"
   ]
  },
  {
   "cell_type": "code",
   "execution_count": 26,
   "metadata": {},
   "outputs": [
    {
     "name": "stdout",
     "output_type": "stream",
     "text": [
      "<Chemical [hydrogen], T=330.00 K, P=11345330 Pa>\n",
      "1.4014933245260097\n",
      "1.4246028670528046\n",
      "--\n",
      "0.9611655290996434\n",
      "389.29\n",
      "-3\n",
      "--\n",
      "0.4352029535653285\n",
      "160.24120778763674\n",
      "0.34890735677520435\n",
      "Não foi possível convergir.\n"
     ]
    }
   ],
   "source": [
    "import thermo as th\n",
    "from thermo.chemical import Chemical\n",
    "\n",
    "def X(Chem,T=273,P=100000):\n",
    "    aux1=th.chemical.Chemical(Chem,T=T*0.9999,P=P)\n",
    "    aux2=th.chemical.Chemical(Chem,T=T*1.0001,P=P)\n",
    "    \n",
    "    Z=th.chemical.Chemical(Chem,T=T,P=P).Z    \n",
    "    \n",
    "    return (T/Z*(aux2.Z-aux1.Z)/(T*0.0002))\n",
    "    \n",
    "def Y(Chem,T=273,P=100000):\n",
    "    aux1=th.chemical.Chemical(Chem,T=T,P=P*0.9999)\n",
    "    aux2=th.chemical.Chemical(Chem,T=T,P=P*1.0001)\n",
    "    \n",
    "    Z=th.chemical.Chemical(Chem,T=T,P=P).Z\n",
    "    \n",
    "    return (1-P/Z*(aux2.Z-aux1.Z)/(P*0.0002))\n",
    " \n",
    "\n",
    "    \n",
    "def eta_r(Chem,Ps,Pd,Ts,Td,N=20,Erro=0.01):\n",
    "    R=8.3144621\n",
    "    \n",
    "    dp=(Pd-Ps)/N\n",
    "    t2=Td*1.1\n",
    "    n_id=1/(1-np.log(Td/Ts)/np.log(Pd/Ps))\n",
    "    k_id=th.chemical.Chemical(Chem,P=Ps,T=Ts).isentropic_exponent\n",
    "    print(th.chemical.Chemical(Chem,P=Ps,T=Ts))\n",
    "    print(k_id)\n",
    "    print(n_id)\n",
    "    eta=((k_id-1)/(k_id))/((n_id-1)/(n_id))\n",
    "    j=0\n",
    "    m=-3\n",
    "    while abs(t2-Td)/Td > Erro and j<2:\n",
    "        p1=Ps\n",
    "        t1=Ts\n",
    "        p2=Ps+dp\n",
    "        j=j+1\n",
    "        print('--')\n",
    "        print(eta)\n",
    "        print(t2)\n",
    "        print(m)\n",
    "        for i in range(N):\n",
    "            #print('--')\n",
    "            \n",
    "            C=Chemical(Chem,T=t1,P=p1)\n",
    "            m=C.Z*(R/(C.MW/1000))/C.Cp*(1/eta+X(Chem,T=t1,P=p1))\n",
    "            #n=1/(Y(Chem,T=t1,P=p1)-m*(1+X(Chem,T=t1,P=p1)))\n",
    "            t2=t1*(p1/p2)**(1/m)\n",
    "            \n",
    "#             print(t1)\n",
    "#             print(t2)\n",
    "#             print(p1)\n",
    "#             print(p2)\n",
    "#             print(m)\n",
    "#             print(C.Cp)\n",
    "#             print(C.Z)\n",
    "#             print(R/C.MW)\n",
    "#             print((1/eta+X(Chem,T=t1,P=p1)))\n",
    "            \n",
    "            t1=t2\n",
    "            p1=p2\n",
    "            p2=p2+dp\n",
    "        \n",
    "        if abs(t2-Td)/Td > Erro:\n",
    "            eta=eta*(t2/Td)\n",
    "            if eta>1:\n",
    "                eta=1\n",
    "        \n",
    "    if abs(t2-Td)/Td > Erro:\n",
    "        print('Não foi possível convergir.')\n",
    "    else:\n",
    "        return eta\n",
    "            \n",
    "    \n",
    "#Y('Hydrogen',T=TsK,P=Ps*101000)\n",
    "\n",
    "eta_r('Hydrogen',Ts=TsK,Ps=Ps*101000,Td=TdK,Pd=Pd*101000,N=100)\n",
    "#-0.012858804665785392"
   ]
  },
  {
   "cell_type": "code",
   "execution_count": 26,
   "metadata": {},
   "outputs": [
    {
     "data": {
      "text/plain": [
       "1.0724242424242423"
      ]
     },
     "execution_count": 26,
     "metadata": {},
     "output_type": "execute_result"
    }
   ],
   "source": [
    "TdK/TsK"
   ]
  },
  {
   "cell_type": "code",
   "execution_count": 17,
   "metadata": {},
   "outputs": [
    {
     "data": {
      "text/plain": [
       "1.071435369407256"
      ]
     },
     "execution_count": 17,
     "metadata": {},
     "output_type": "execute_result"
    }
   ],
   "source": [
    "(Ps/Pd)**(-1/3.4)"
   ]
  },
  {
   "cell_type": "code",
   "execution_count": null,
   "metadata": {
    "collapsed": true
   },
   "outputs": [],
   "source": [
    "import bokeh as bk\n",
    "from bokeh.io import output_notebook, show, push_notebook\n",
    "from bokeh.plotting import figure\n",
    "import numpy as np\n",
    "import time\n",
    "import random\n",
    "\n",
    "\n",
    "Qc=[7600,8400,9200,10000,10500]\n",
    "Hpc=[207,197,187,165,135]\n",
    "f=8669/12361\n",
    "Hpc2=[x*f**2 for x in Hpc]\n",
    "Qc2=[x*f for x in Qc]\n",
    "\n",
    "output_notebook()\n",
    "\n",
    "pc=figure(x_range=(0,16000),y_range=(50,250),plot_width=700,plot_height=500,title=\"Curva do compressor\",\n",
    "                      x_axis_label=\"Inlet Volume Flow (m³/h)\",y_axis_label=\"Polytropic Head (J/kg)\")\n",
    "\n",
    "pc.image_url(url=['C_main_A.jpg'], x=0, y=250,w=16000,h=200)\n",
    "\n",
    "Hp0=Hp\n",
    "VF0=VF\n",
    "x=VF0\n",
    "y=Hp0/1000\n",
    "P_op=pc.circle(x,y,size=12,fill_color=\"red\")\n",
    "Han=show(pc,notebook_handle=True)\n",
    "\n",
    "for i in range(0,5):\n",
    "    x=VF0+1000\n",
    "    y=Hp0+np.random.rand()*20\n",
    "    P_op.data_source.data['x']=[x]\n",
    "    P_op.data_source.data['y']=[y]\n",
    "    push_notebook(handle=Han)\n",
    "#     print('plotted')\n",
    "    time.sleep(1)\n",
    "\n"
   ]
  },
  {
   "cell_type": "code",
   "execution_count": null,
   "metadata": {
    "collapsed": true,
    "scrolled": true
   },
   "outputs": [],
   "source": [
    "bokeh server teste.py"
   ]
  },
  {
   "cell_type": "code",
   "execution_count": null,
   "metadata": {
    "collapsed": true
   },
   "outputs": [],
   "source": []
  }
 ],
 "metadata": {
  "kernelspec": {
   "display_name": "Python 3",
   "language": "python",
   "name": "python3"
  },
  "language_info": {
   "codemirror_mode": {
    "name": "ipython",
    "version": 3
   },
   "file_extension": ".py",
   "mimetype": "text/x-python",
   "name": "python",
   "nbconvert_exporter": "python",
   "pygments_lexer": "ipython3",
   "version": "3.6.3"
  }
 },
 "nbformat": 4,
 "nbformat_minor": 2
}
